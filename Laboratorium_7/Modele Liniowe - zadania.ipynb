{
 "cells": [
  {
   "cell_type": "markdown",
   "metadata": {
    "pycharm": {
     "name": "#%% md\n"
    }
   },
   "source": [
    "##  Regresja liniowa\n",
    "\n",
    "Regresja liniowa to tworzenie modeli przedstawiających wielkość, której wartość chcemy przewidzieć (zmienna zależna) jako kombinację liniową predyktorów (zmiennych zależnych).\n",
    "\n",
    "Struktura modelu ma postać\n",
    "\n",
    "$$\\tilde{y} = \\beta_0 + \\beta_1 x_1 + \\beta_2 x_2 +\\ldots+ \\beta_n x_n$$\n",
    "\n",
    "lub w formie macierzowej \n",
    "\n",
    "$$\\tilde{\\mathbf{y}} = \\mathbf{[1\\  X ]} \\beta$$\n",
    "\n",
    "gdzie wektor wartości zmiennych zależnych jest przewidywany na podstawie macierzy danych i wektora współczynników $\\beta$.\n",
    "\n",
    "Współczynnik $\\beta_0$ w nomentkalturze anglojęzycznej jest nazywany *intercept* ponieważ jest to punkt przecięcia się z osią $y$ gdy wszystkie predyktory są równe 0.\n",
    "\n",
    "Aby wyznaczyć parametry modelu liniowego potrzebujemy wektora danych uczących, tj. znanych nam wartości zmiennej zależnej  $\\mathbf{y}$ oraz odpowiadająxcej mu macierzy predyktorów $\\mathbf{X}$. Macierz predyktorów nosi nazwę *design matrix*, i bardzo użytyeczne do jej wyznaczenia (w oparciu o dane w forme dataframe) jest pakiet [patsy](https://patsy.readthedocs.io/en/latest/quickstart.html), a w szczególności funkcja ```dmatrices```.\n",
    "\n",
    "\n",
    "Model regresyjny ma mocne umocowanie statystyczne, jednak w ramach zajęć będziemy traktować go machinistycznie jak jedną z metod uczenia maszynowego. Do tworzenia takich modeli służy klasa ```LinearRegression```\n",
    "\n",
    "Do analizy regresji liniowej wykorzystywać będziemy pakiet ```scikit-learn``` oraz zawarte w nim klasy, głównie w modułach ```linear_model```, ```metrics``` oraz ```model_selection```. \n",
    "\n",
    "### Dane uczące i dane testowe\n",
    "\n",
    "Zazwyczaj rozwiązując problem nie mamy dostępu do dodatkowych danych testowych uzupełniających nasze dane uczące. Dlatego też, popularną praktyką jest podzielenie posiadanego zbioru danych w sposób losowy na dwa zbiory: uczący i testowy. Do tego służy funkcja ```train_test_split``` z modułu ```model_selection```. \n",
    "\n"
   ]
  },
  {
   "cell_type": "markdown",
   "source": [
    "### Zadanie 1\n",
    "Na podstawie danych zawartych w pliku SCORES.csv wykonaj i oceń regresję liniową, gdzie Twoją daną niezależną (predyktorem) będą godziny poświęcone na przygotowanie, a wynikową uzyskane punkty. Wykonanie zadania powinno składać się z następujących kroków:\n",
    "1. Zaimportowanie niezbędnych bibliotek w szczególności tych tworzących modele liniowe z \"scikit-learn\", a także biblioteki do operacji na danych oraz tworzenia wykresów.\n",
    "2. Odczytaj dane z pliku SCORES.csv. Pomocne w interpretacji danych są metody: head(), describe(), shape.\n",
    "3. Wykonaj wstępny wykres uzyskanych danych (typu \"scatter\")\n",
    "4. Dokonaj podziału danych na zbiory danych niezależnych (wejściowe, X) oraz zaleznych (wyjściowe, y) dla swojego modelu, a następnie podziel zbiór na dane testowe i treningowe (30%)\n",
    "5. Utwróz model regresji liniowej za pomocą sklearn.\n",
    "6. Wypisz i przeanalizuj wyliczone wskaźniki dla modelu: coef_ oraz intercept_. Czym one są i do czego służą?\n",
    "7. Wykorzystając stworozny model dokonaj predykcji dla części testowej X. Porównaj wynik (y_pred) z posiadanymi danymi (y_test).\n",
    "8. Wykonaj wykres konfrontujący dane testowe (X_test, y_test; typu \"scatter\") oraz predykcje (X_test, y_pred; linia prosta)\n",
    "9. Dokonaj walidacji uzyskanych predykcji wykorzystując metryki: średni błąd bezwzględny (Mean Absolute Error), błąd średniokwadratowy (Mean Squared Error) oraz pierwiastek błędu średniokwadratowego (Root Mean Squared Error).\n",
    "\n",
    "Następnie utworzony skrypt wykorzystaj na danych zawartych w SBP.csv, gdzie predyktorem będzie wiek, a wynikiem ciśnienie (SBP). Czy uzyskane wyniki z modelu są równie zadowalające?\n",
    "\n"
   ],
   "metadata": {
    "collapsed": false,
    "pycharm": {
     "name": "#%% md\n"
    }
   }
  },
  {
   "cell_type": "code",
   "execution_count": 857,
   "outputs": [],
   "source": [
    "import numpy as np\n",
    "import pandas as pd\n",
    "import matplotlib.pyplot as plt\n",
    "import sklearn.metrics\n",
    "from sklearn.model_selection import train_test_split\n",
    "from sklearn.linear_model import LinearRegression, LogisticRegression\n",
    "from sklearn.metrics import mean_absolute_error, mean_squared_error, classification_report\n",
    "from IPython.display import display #display dataframes and df methods\n",
    "from sklearn import preprocessing\n",
    "import warnings\n",
    "warnings.filterwarnings(action='ignore')\n"
   ],
   "metadata": {
    "collapsed": false,
    "pycharm": {
     "name": "#%%\n"
    }
   }
  },
  {
   "cell_type": "markdown",
   "source": [
    "## Scores.csv"
   ],
   "metadata": {
    "collapsed": false,
    "pycharm": {
     "name": "#%% md\n"
    }
   }
  },
  {
   "cell_type": "code",
   "execution_count": 858,
   "outputs": [
    {
     "data": {
      "text/plain": "   Hours  Scores\n0    2.5      21\n1    5.1      47\n2    3.2      27\n3    8.5      75\n4    3.5      30",
      "text/html": "<div>\n<style scoped>\n    .dataframe tbody tr th:only-of-type {\n        vertical-align: middle;\n    }\n\n    .dataframe tbody tr th {\n        vertical-align: top;\n    }\n\n    .dataframe thead th {\n        text-align: right;\n    }\n</style>\n<table border=\"1\" class=\"dataframe\">\n  <thead>\n    <tr style=\"text-align: right;\">\n      <th></th>\n      <th>Hours</th>\n      <th>Scores</th>\n    </tr>\n  </thead>\n  <tbody>\n    <tr>\n      <th>0</th>\n      <td>2.5</td>\n      <td>21</td>\n    </tr>\n    <tr>\n      <th>1</th>\n      <td>5.1</td>\n      <td>47</td>\n    </tr>\n    <tr>\n      <th>2</th>\n      <td>3.2</td>\n      <td>27</td>\n    </tr>\n    <tr>\n      <th>3</th>\n      <td>8.5</td>\n      <td>75</td>\n    </tr>\n    <tr>\n      <th>4</th>\n      <td>3.5</td>\n      <td>30</td>\n    </tr>\n  </tbody>\n</table>\n</div>"
     },
     "metadata": {},
     "output_type": "display_data"
    },
    {
     "data": {
      "text/plain": "           Hours     Scores\ncount  25.000000  25.000000\nmean    5.012000  51.480000\nstd     2.525094  25.286887\nmin     1.100000  17.000000\n25%     2.700000  30.000000\n50%     4.800000  47.000000\n75%     7.400000  75.000000\nmax     9.200000  95.000000",
      "text/html": "<div>\n<style scoped>\n    .dataframe tbody tr th:only-of-type {\n        vertical-align: middle;\n    }\n\n    .dataframe tbody tr th {\n        vertical-align: top;\n    }\n\n    .dataframe thead th {\n        text-align: right;\n    }\n</style>\n<table border=\"1\" class=\"dataframe\">\n  <thead>\n    <tr style=\"text-align: right;\">\n      <th></th>\n      <th>Hours</th>\n      <th>Scores</th>\n    </tr>\n  </thead>\n  <tbody>\n    <tr>\n      <th>count</th>\n      <td>25.000000</td>\n      <td>25.000000</td>\n    </tr>\n    <tr>\n      <th>mean</th>\n      <td>5.012000</td>\n      <td>51.480000</td>\n    </tr>\n    <tr>\n      <th>std</th>\n      <td>2.525094</td>\n      <td>25.286887</td>\n    </tr>\n    <tr>\n      <th>min</th>\n      <td>1.100000</td>\n      <td>17.000000</td>\n    </tr>\n    <tr>\n      <th>25%</th>\n      <td>2.700000</td>\n      <td>30.000000</td>\n    </tr>\n    <tr>\n      <th>50%</th>\n      <td>4.800000</td>\n      <td>47.000000</td>\n    </tr>\n    <tr>\n      <th>75%</th>\n      <td>7.400000</td>\n      <td>75.000000</td>\n    </tr>\n    <tr>\n      <th>max</th>\n      <td>9.200000</td>\n      <td>95.000000</td>\n    </tr>\n  </tbody>\n</table>\n</div>"
     },
     "metadata": {},
     "output_type": "display_data"
    },
    {
     "data": {
      "text/plain": "(25, 2)"
     },
     "metadata": {},
     "output_type": "display_data"
    }
   ],
   "source": [
    "scores = pd.read_csv('SCORES.csv')\n",
    "display(scores.head())\n",
    "display(scores.describe())\n",
    "display(scores.shape)"
   ],
   "metadata": {
    "collapsed": false,
    "pycharm": {
     "name": "#%%\n"
    }
   }
  },
  {
   "cell_type": "code",
   "execution_count": 859,
   "outputs": [
    {
     "data": {
      "text/plain": "<Figure size 432x288 with 1 Axes>",
      "image/png": "[encoded data removed]"
     },
     "metadata": {
      "needs_background": "light"
     },
     "output_type": "display_data"
    }
   ],
   "source": [
    "scores.plot.scatter(x = 'Hours', y = 'Scores', color='Blue')\n",
    "plt.show()"
   ],
   "metadata": {
    "collapsed": false,
    "pycharm": {
     "name": "#%%\n"
    }
   }
  },
  {
   "cell_type": "code",
   "execution_count": 860,
   "outputs": [],
   "source": [
    "X_train, X_test, y_train, y_test = train_test_split(scores[['Hours']], scores[['Scores']], test_size=0.3, random_state=42)\n",
    "\n",
    "#display(X_train)\n",
    "#display(X_test)\n",
    "#display(y_train)\n",
    "#display(y_test)\n",
    "\n",
    "reg = LinearRegression().fit(X_train, y_train)\n",
    "score = reg.score(X_train, y_train)\n",
    "coef = reg.coef_\n",
    "intercept = reg.intercept_"
   ],
   "metadata": {
    "collapsed": false,
    "pycharm": {
     "name": "#%%\n"
    }
   }
  },
  {
   "cell_type": "code",
   "execution_count": 861,
   "outputs": [
    {
     "name": "stdout",
     "output_type": "stream",
     "text": [
      "Score: 0.9536486503889446\n",
      "Coef: [[9.71054094]]\n",
      "Intercept: [2.79419668]\n"
     ]
    }
   ],
   "source": [
    "print(\"Score: {}\".format(score)) #score is the coefficient of determination of the prediction.\n",
    "print(\"Coef: {}\".format(coef)) #wektor współczynników struktury modelu liniowej regresji\n",
    "print(\"Intercept: {}\".format(intercept)) #jest to punkt przecięcia się z osią y gdy wszystkie predyktory są równe 0\n"
   ],
   "metadata": {
    "collapsed": false,
    "pycharm": {
     "name": "#%%\n"
    }
   }
  },
  {
   "cell_type": "code",
   "execution_count": 862,
   "outputs": [
    {
     "name": "stdout",
     "output_type": "stream",
     "text": [
      "y_test = [81], y_pred = [83.39168645], abs diff = [2.39168645]\n",
      "y_test = [30], y_pred = [27.07054902], abs diff = [2.92945098]\n",
      "y_test = [21], y_pred = [27.07054902], abs diff = [6.07054902]\n",
      "y_test = [76], y_pred = [69.79692914], abs diff = [6.20307086]\n",
      "y_test = [62], y_pred = [60.0863882], abs diff = [1.9136118]\n",
      "y_test = [25], y_pred = [29.0126572], abs diff = [4.0126572]\n",
      "y_test = [42], y_pred = [34.83898177], abs diff = [7.16101823]\n",
      "y_test = [47], y_pred = [52.31795545], abs diff = [5.31795545]\n"
     ]
    }
   ],
   "source": [
    "X_test = np.array(X_test).reshape(-1,1)\n",
    "y_test = np.array(y_test).reshape((-1,1))\n",
    "y_pred = reg.predict(X_test)\n",
    "for i in range(len(X_test)):\n",
    "    print('y_test = {}, y_pred = {}, abs diff = {}'.format(y_test[i], y_pred[i],np.abs(y_test[i] - y_pred[i])))\n"
   ],
   "metadata": {
    "collapsed": false,
    "pycharm": {
     "name": "#%%\n"
    }
   }
  },
  {
   "cell_type": "code",
   "execution_count": 863,
   "outputs": [
    {
     "data": {
      "text/plain": "<Figure size 432x288 with 1 Axes>",
      "image/png": "[encoded data removed]"
     },
     "metadata": {
      "needs_background": "light"
     },
     "output_type": "display_data"
    }
   ],
   "source": [
    "plt.scatter(x = X_test, y = y_test, color='Blue')\n",
    "plt.plot(X_test, y_pred, color='Red')\n",
    "plt.legend(['Dane testowe', 'Predykcja'])\n",
    "plt.xlabel(\"Hours\")\n",
    "plt.ylabel(\"Scores\")\n",
    "plt.show()"
   ],
   "metadata": {
    "collapsed": false,
    "pycharm": {
     "name": "#%%\n"
    }
   }
  },
  {
   "cell_type": "code",
   "execution_count": 864,
   "outputs": [
    {
     "data": {
      "text/plain": "<Figure size 432x288 with 1 Axes>",
      "image/png": "[encoded data removed]"
     },
     "metadata": {
      "needs_background": "light"
     },
     "output_type": "display_data"
    }
   ],
   "source": [
    "def line(x: int):\n",
    "    return coef[0][0] * x + intercept[0]\n",
    "\n",
    "plt.scatter(x = scores['Hours'], y = scores['Scores'], color='Blue')\n",
    "line_args = np.linspace(0,10)\n",
    "plt.plot(line_args,line(line_args), color='Red')\n",
    "plt.legend(['Dane wyjściowe', 'Linia Regresji'])\n",
    "plt.xlabel(\"Hours\")\n",
    "plt.ylabel(\"Scores\")\n",
    "plt.show()\n",
    "\n"
   ],
   "metadata": {
    "collapsed": false,
    "pycharm": {
     "name": "#%%\n"
    }
   }
  },
  {
   "cell_type": "code",
   "execution_count": 865,
   "outputs": [
    {
     "name": "stdout",
     "output_type": "stream",
     "text": [
      "Średni błąd bezwzględny (Mean Absolute Error) = 4.499999999999998\n",
      "Błąd średniokwadratowy (Mean Squared Error) = 23.61945761415174\n",
      "Pierwiastek błędu średniokwadratowego (Root Mean Squared Error) = 4.859985351228103\n"
     ]
    }
   ],
   "source": [
    "MAE = mean_absolute_error(y_test, y_pred)\n",
    "MSE = mean_squared_error(y_test, y_pred)\n",
    "RMSE = np.sqrt(MSE)\n",
    "print('Średni błąd bezwzględny (Mean Absolute Error) = {}'.format(MAE))\n",
    "print('Błąd średniokwadratowy (Mean Squared Error) = {}'.format(MSE))\n",
    "print('Pierwiastek błędu średniokwadratowego (Root Mean Squared Error) = {}'.format(RMSE))\n"
   ],
   "metadata": {
    "collapsed": false,
    "pycharm": {
     "name": "#%%\n"
    }
   }
  },
  {
   "cell_type": "markdown",
   "source": [
    "## SBP.csv"
   ],
   "metadata": {
    "collapsed": false,
    "pycharm": {
     "name": "#%% md\n"
    }
   }
  },
  {
   "cell_type": "code",
   "execution_count": 866,
   "outputs": [
    {
     "data": {
      "text/plain": "    Age  SBP\n0    60  117\n1    61  120\n2    74  145\n3    57  129\n4    63  132\n5    68  130\n6    66  127\n7    77  163\n8    63  136\n9    54  115\n10   63  118\n11   76  132\n12   60  111\n13   61  112\n14   65  147\n15   79  138\n16   69  141\n17   56  124\n18   62  122",
      "text/html": "<div>\n<style scoped>\n    .dataframe tbody tr th:only-of-type {\n        vertical-align: middle;\n    }\n\n    .dataframe tbody tr th {\n        vertical-align: top;\n    }\n\n    .dataframe thead th {\n        text-align: right;\n    }\n</style>\n<table border=\"1\" class=\"dataframe\">\n  <thead>\n    <tr style=\"text-align: right;\">\n      <th></th>\n      <th>Age</th>\n      <th>SBP</th>\n    </tr>\n  </thead>\n  <tbody>\n    <tr>\n      <th>0</th>\n      <td>60</td>\n      <td>117</td>\n    </tr>\n    <tr>\n      <th>1</th>\n      <td>61</td>\n      <td>120</td>\n    </tr>\n    <tr>\n      <th>2</th>\n      <td>74</td>\n      <td>145</td>\n    </tr>\n    <tr>\n      <th>3</th>\n      <td>57</td>\n      <td>129</td>\n    </tr>\n    <tr>\n      <th>4</th>\n      <td>63</td>\n      <td>132</td>\n    </tr>\n    <tr>\n      <th>5</th>\n      <td>68</td>\n      <td>130</td>\n    </tr>\n    <tr>\n      <th>6</th>\n      <td>66</td>\n      <td>127</td>\n    </tr>\n    <tr>\n      <th>7</th>\n      <td>77</td>\n      <td>163</td>\n    </tr>\n    <tr>\n      <th>8</th>\n      <td>63</td>\n      <td>136</td>\n    </tr>\n    <tr>\n      <th>9</th>\n      <td>54</td>\n      <td>115</td>\n    </tr>\n    <tr>\n      <th>10</th>\n      <td>63</td>\n      <td>118</td>\n    </tr>\n    <tr>\n      <th>11</th>\n      <td>76</td>\n      <td>132</td>\n    </tr>\n    <tr>\n      <th>12</th>\n      <td>60</td>\n      <td>111</td>\n    </tr>\n    <tr>\n      <th>13</th>\n      <td>61</td>\n      <td>112</td>\n    </tr>\n    <tr>\n      <th>14</th>\n      <td>65</td>\n      <td>147</td>\n    </tr>\n    <tr>\n      <th>15</th>\n      <td>79</td>\n      <td>138</td>\n    </tr>\n    <tr>\n      <th>16</th>\n      <td>69</td>\n      <td>141</td>\n    </tr>\n    <tr>\n      <th>17</th>\n      <td>56</td>\n      <td>124</td>\n    </tr>\n    <tr>\n      <th>18</th>\n      <td>62</td>\n      <td>122</td>\n    </tr>\n  </tbody>\n</table>\n</div>"
     },
     "metadata": {},
     "output_type": "display_data"
    },
    {
     "data": {
      "text/plain": "   Age  SBP\n0   60  117\n1   61  120\n2   74  145\n3   57  129\n4   63  132",
      "text/html": "<div>\n<style scoped>\n    .dataframe tbody tr th:only-of-type {\n        vertical-align: middle;\n    }\n\n    .dataframe tbody tr th {\n        vertical-align: top;\n    }\n\n    .dataframe thead th {\n        text-align: right;\n    }\n</style>\n<table border=\"1\" class=\"dataframe\">\n  <thead>\n    <tr style=\"text-align: right;\">\n      <th></th>\n      <th>Age</th>\n      <th>SBP</th>\n    </tr>\n  </thead>\n  <tbody>\n    <tr>\n      <th>0</th>\n      <td>60</td>\n      <td>117</td>\n    </tr>\n    <tr>\n      <th>1</th>\n      <td>61</td>\n      <td>120</td>\n    </tr>\n    <tr>\n      <th>2</th>\n      <td>74</td>\n      <td>145</td>\n    </tr>\n    <tr>\n      <th>3</th>\n      <td>57</td>\n      <td>129</td>\n    </tr>\n    <tr>\n      <th>4</th>\n      <td>63</td>\n      <td>132</td>\n    </tr>\n  </tbody>\n</table>\n</div>"
     },
     "metadata": {},
     "output_type": "display_data"
    },
    {
     "data": {
      "text/plain": "             Age         SBP\ncount  19.000000   19.000000\nmean   64.947368  129.421053\nstd     7.214751   13.454928\nmin    54.000000  111.000000\n25%    60.500000  119.000000\n50%    63.000000  129.000000\n75%    68.500000  137.000000\nmax    79.000000  163.000000",
      "text/html": "<div>\n<style scoped>\n    .dataframe tbody tr th:only-of-type {\n        vertical-align: middle;\n    }\n\n    .dataframe tbody tr th {\n        vertical-align: top;\n    }\n\n    .dataframe thead th {\n        text-align: right;\n    }\n</style>\n<table border=\"1\" class=\"dataframe\">\n  <thead>\n    <tr style=\"text-align: right;\">\n      <th></th>\n      <th>Age</th>\n      <th>SBP</th>\n    </tr>\n  </thead>\n  <tbody>\n    <tr>\n      <th>count</th>\n      <td>19.000000</td>\n      <td>19.000000</td>\n    </tr>\n    <tr>\n      <th>mean</th>\n      <td>64.947368</td>\n      <td>129.421053</td>\n    </tr>\n    <tr>\n      <th>std</th>\n      <td>7.214751</td>\n      <td>13.454928</td>\n    </tr>\n    <tr>\n      <th>min</th>\n      <td>54.000000</td>\n      <td>111.000000</td>\n    </tr>\n    <tr>\n      <th>25%</th>\n      <td>60.500000</td>\n      <td>119.000000</td>\n    </tr>\n    <tr>\n      <th>50%</th>\n      <td>63.000000</td>\n      <td>129.000000</td>\n    </tr>\n    <tr>\n      <th>75%</th>\n      <td>68.500000</td>\n      <td>137.000000</td>\n    </tr>\n    <tr>\n      <th>max</th>\n      <td>79.000000</td>\n      <td>163.000000</td>\n    </tr>\n  </tbody>\n</table>\n</div>"
     },
     "metadata": {},
     "output_type": "display_data"
    },
    {
     "data": {
      "text/plain": "(19, 2)"
     },
     "metadata": {},
     "output_type": "display_data"
    },
    {
     "data": {
      "text/plain": "<Figure size 432x288 with 1 Axes>",
      "image/png": "[encoded data removed]"
     },
     "metadata": {
      "needs_background": "light"
     },
     "output_type": "display_data"
    }
   ],
   "source": [
    "SBP= pd.read_csv('SBP.csv')\n",
    "display(SBP)\n",
    "display(SBP.head())\n",
    "display(SBP.describe())\n",
    "display(SBP.shape)\n",
    "SBP.plot.scatter(x='Age', y='SBP', color='Blue')\n",
    "plt.show()"
   ],
   "metadata": {
    "collapsed": false,
    "pycharm": {
     "name": "#%%\n"
    }
   }
  },
  {
   "cell_type": "code",
   "execution_count": 867,
   "outputs": [
    {
     "name": "stdout",
     "output_type": "stream",
     "text": [
      "Score: 0.5494410762946278\n",
      "Coef: [[1.44882707]]\n",
      "Intercept: [36.17936475]\n"
     ]
    }
   ],
   "source": [
    "X_train, X_test, y_train, y_test = train_test_split(SBP[['Age']], SBP[['SBP']], test_size=0.3,\n",
    "                                                    random_state=42)\n",
    "\n",
    "#display(X_train)\n",
    "#display(X_test)\n",
    "#display(y_train)\n",
    "#display(y_test)\n",
    "\n",
    "reg = LinearRegression().fit(X_train, y_train)\n",
    "score = reg.score(X_train, y_train)\n",
    "coef = reg.coef_\n",
    "intercept = reg.intercept_\n",
    "print(\"Score: {}\".format(score))  #score is the coefficient of determination of the prediction.\n",
    "print(\"Coef: {}\".format(coef))  #wektor współczynników struktury modelu liniowej regresji\n",
    "print(\"Intercept: {}\".format(intercept))  #jest to punkt przecięcia się z osią y gdy wszystkie predyktory są równe 0"
   ],
   "metadata": {
    "collapsed": false,
    "pycharm": {
     "name": "#%%\n"
    }
   }
  },
  {
   "cell_type": "code",
   "execution_count": 868,
   "outputs": [
    {
     "name": "stdout",
     "output_type": "stream",
     "text": [
      "y_test = [117], y_pred = [123.108989], abs diff = [6.108989]\n",
      "y_test = [130], y_pred = [134.69960556], abs diff = [4.69960556]\n",
      "y_test = [132], y_pred = [146.29022213], abs diff = [14.29022213]\n",
      "y_test = [120], y_pred = [124.55781607], abs diff = [4.55781607]\n",
      "y_test = [136], y_pred = [127.45547021], abs diff = [8.54452979]\n",
      "y_test = [141], y_pred = [136.14843263], abs diff = [4.85156737]\n"
     ]
    },
    {
     "data": {
      "text/plain": "<Figure size 432x288 with 1 Axes>",
      "image/png": "[encoded data removed]"
     },
     "metadata": {
      "needs_background": "light"
     },
     "output_type": "display_data"
    }
   ],
   "source": [
    "X_test = np.array(X_test).reshape(-1, 1)\n",
    "y_test = np.array(y_test).reshape((-1, 1))\n",
    "y_pred = reg.predict(X_test)\n",
    "for i in range(len(X_test)):\n",
    "    print('y_test = {}, y_pred = {}, abs diff = {}'.format(y_test[i], y_pred[i], np.abs(y_test[i] - y_pred[i])))\n",
    "\n",
    "plt.scatter(x=X_test, y=y_test, color='Blue')\n",
    "plt.plot(X_test, y_pred, color='Red')\n",
    "plt.legend(['Dane testowe', 'Predykcja'])\n",
    "plt.xlabel(\"Age\")\n",
    "plt.ylabel(\"SBP\")\n",
    "plt.show()\n"
   ],
   "metadata": {
    "collapsed": false,
    "pycharm": {
     "name": "#%%\n"
    }
   }
  },
  {
   "cell_type": "code",
   "execution_count": 869,
   "outputs": [
    {
     "data": {
      "text/plain": "<Figure size 432x288 with 1 Axes>",
      "image/png": "[encoded data removed]"
     },
     "metadata": {
      "needs_background": "light"
     },
     "output_type": "display_data"
    }
   ],
   "source": [
    "def line(x: int):\n",
    "    return coef[0][0] * x + intercept[0]\n",
    "\n",
    "\n",
    "plt.scatter(x=SBP['Age'], y=SBP['SBP'], color='Blue')\n",
    "line_args = np.linspace(50, 80)\n",
    "plt.plot(line_args, line(line_args), color='Red')\n",
    "plt.legend(['Dane wyjściowe', 'Linia Regresji'])\n",
    "plt.xlabel(\"Age\")\n",
    "plt.ylabel(\"SBP\")\n",
    "plt.show()"
   ],
   "metadata": {
    "collapsed": false,
    "pycharm": {
     "name": "#%%\n"
    }
   }
  },
  {
   "cell_type": "code",
   "execution_count": 870,
   "outputs": [
    {
     "name": "stdout",
     "output_type": "stream",
     "text": [
      "Średni błąd bezwzględny (Mean Absolute Error) = 7.175454985814118\n",
      "Błąd średniokwadratowy (Mean Squared Error) = 63.48947834957039\n",
      "Pierwiastek błędu średniokwadratowego (Root Mean Squared Error) = 7.968028510840708\n"
     ]
    }
   ],
   "source": [
    "MAE = mean_absolute_error(y_test, y_pred)\n",
    "MSE = mean_squared_error(y_test, y_pred)\n",
    "RMSE = np.sqrt(MSE)\n",
    "print('Średni błąd bezwzględny (Mean Absolute Error) = {}'.format(MAE))\n",
    "print('Błąd średniokwadratowy (Mean Squared Error) = {}'.format(MSE))\n",
    "print('Pierwiastek błędu średniokwadratowego (Root Mean Squared Error) = {}'.format(RMSE))"
   ],
   "metadata": {
    "collapsed": false,
    "pycharm": {
     "name": "#%%\n"
    }
   }
  },
  {
   "cell_type": "markdown",
   "source": [
    "Uzyskane z modelu wyniki dla danych 'SBP.csv'są mniej zadowalające jak dla danych 'Scores.csv' O czym świadczy wartość współczynnika **score = 0.5494410762946278**"
   ],
   "metadata": {
    "collapsed": false,
    "pycharm": {
     "name": "#%% md\n"
    }
   }
  },
  {
   "cell_type": "markdown",
   "source": [
    "### Zadanie 2\n",
    "Na podstawie danych zawartych w pliku PETROL.csv wykonaj i oceń regresję liniową. Jako daną zależną wykorzystaj zużycie paliwa, a pozostałe - jako predyktory. Wykonanie zadania powinno składać się z kroków podobnych do tych z zadania poprzedniego.\n",
    "\n",
    "Czy uzyskane wyniki predykcji modelu są dobre? Co mogło mieć pozytywny/negatywny wpływ na taki wynik?\n"
   ],
   "metadata": {
    "collapsed": false,
    "pycharm": {
     "name": "#%% md\n"
    }
   }
  },
  {
   "cell_type": "code",
   "execution_count": 871,
   "outputs": [
    {
     "data": {
      "text/plain": "   Podatek_paliwowy  Sredni_przychod  Utwardzone_autostrady  \\\n0               9.0             3571                   1976   \n1               9.0             4092                   1250   \n2               9.0             3865                   1586   \n3               7.5             4870                   2351   \n4               8.0             4399                    431   \n\n   Procent_ludnosci_z_prawem_jazdy  Zuzycie_paliwa  \n0                            0.525             541  \n1                            0.572             524  \n2                            0.580             561  \n3                            0.529             414  \n4                            0.544             410  ",
      "text/html": "<div>\n<style scoped>\n    .dataframe tbody tr th:only-of-type {\n        vertical-align: middle;\n    }\n\n    .dataframe tbody tr th {\n        vertical-align: top;\n    }\n\n    .dataframe thead th {\n        text-align: right;\n    }\n</style>\n<table border=\"1\" class=\"dataframe\">\n  <thead>\n    <tr style=\"text-align: right;\">\n      <th></th>\n      <th>Podatek_paliwowy</th>\n      <th>Sredni_przychod</th>\n      <th>Utwardzone_autostrady</th>\n      <th>Procent_ludnosci_z_prawem_jazdy</th>\n      <th>Zuzycie_paliwa</th>\n    </tr>\n  </thead>\n  <tbody>\n    <tr>\n      <th>0</th>\n      <td>9.0</td>\n      <td>3571</td>\n      <td>1976</td>\n      <td>0.525</td>\n      <td>541</td>\n    </tr>\n    <tr>\n      <th>1</th>\n      <td>9.0</td>\n      <td>4092</td>\n      <td>1250</td>\n      <td>0.572</td>\n      <td>524</td>\n    </tr>\n    <tr>\n      <th>2</th>\n      <td>9.0</td>\n      <td>3865</td>\n      <td>1586</td>\n      <td>0.580</td>\n      <td>561</td>\n    </tr>\n    <tr>\n      <th>3</th>\n      <td>7.5</td>\n      <td>4870</td>\n      <td>2351</td>\n      <td>0.529</td>\n      <td>414</td>\n    </tr>\n    <tr>\n      <th>4</th>\n      <td>8.0</td>\n      <td>4399</td>\n      <td>431</td>\n      <td>0.544</td>\n      <td>410</td>\n    </tr>\n  </tbody>\n</table>\n</div>"
     },
     "metadata": {},
     "output_type": "display_data"
    },
    {
     "data": {
      "text/plain": "       Podatek_paliwowy  Sredni_przychod  Utwardzone_autostrady  \\\ncount         48.000000        48.000000              48.000000   \nmean           7.668333      4241.833333            5565.416667   \nstd            0.950770       573.623768            3491.507166   \nmin            5.000000      3063.000000             431.000000   \n25%            7.000000      3739.000000            3110.250000   \n50%            7.500000      4298.000000            4735.500000   \n75%            8.125000      4578.750000            7156.000000   \nmax           10.000000      5342.000000           17782.000000   \n\n       Procent_ludnosci_z_prawem_jazdy  Zuzycie_paliwa  \ncount                        48.000000       48.000000  \nmean                          0.570333      576.770833  \nstd                           0.055470      111.885816  \nmin                           0.451000      344.000000  \n25%                           0.529750      509.500000  \n50%                           0.564500      568.500000  \n75%                           0.595250      632.750000  \nmax                           0.724000      968.000000  ",
      "text/html": "<div>\n<style scoped>\n    .dataframe tbody tr th:only-of-type {\n        vertical-align: middle;\n    }\n\n    .dataframe tbody tr th {\n        vertical-align: top;\n    }\n\n    .dataframe thead th {\n        text-align: right;\n    }\n</style>\n<table border=\"1\" class=\"dataframe\">\n  <thead>\n    <tr style=\"text-align: right;\">\n      <th></th>\n      <th>Podatek_paliwowy</th>\n      <th>Sredni_przychod</th>\n      <th>Utwardzone_autostrady</th>\n      <th>Procent_ludnosci_z_prawem_jazdy</th>\n      <th>Zuzycie_paliwa</th>\n    </tr>\n  </thead>\n  <tbody>\n    <tr>\n      <th>count</th>\n      <td>48.000000</td>\n      <td>48.000000</td>\n      <td>48.000000</td>\n      <td>48.000000</td>\n      <td>48.000000</td>\n    </tr>\n    <tr>\n      <th>mean</th>\n      <td>7.668333</td>\n      <td>4241.833333</td>\n      <td>5565.416667</td>\n      <td>0.570333</td>\n      <td>576.770833</td>\n    </tr>\n    <tr>\n      <th>std</th>\n      <td>0.950770</td>\n      <td>573.623768</td>\n      <td>3491.507166</td>\n      <td>0.055470</td>\n      <td>111.885816</td>\n    </tr>\n    <tr>\n      <th>min</th>\n      <td>5.000000</td>\n      <td>3063.000000</td>\n      <td>431.000000</td>\n      <td>0.451000</td>\n      <td>344.000000</td>\n    </tr>\n    <tr>\n      <th>25%</th>\n      <td>7.000000</td>\n      <td>3739.000000</td>\n      <td>3110.250000</td>\n      <td>0.529750</td>\n      <td>509.500000</td>\n    </tr>\n    <tr>\n      <th>50%</th>\n      <td>7.500000</td>\n      <td>4298.000000</td>\n      <td>4735.500000</td>\n      <td>0.564500</td>\n      <td>568.500000</td>\n    </tr>\n    <tr>\n      <th>75%</th>\n      <td>8.125000</td>\n      <td>4578.750000</td>\n      <td>7156.000000</td>\n      <td>0.595250</td>\n      <td>632.750000</td>\n    </tr>\n    <tr>\n      <th>max</th>\n      <td>10.000000</td>\n      <td>5342.000000</td>\n      <td>17782.000000</td>\n      <td>0.724000</td>\n      <td>968.000000</td>\n    </tr>\n  </tbody>\n</table>\n</div>"
     },
     "metadata": {},
     "output_type": "display_data"
    },
    {
     "data": {
      "text/plain": "(48, 5)"
     },
     "metadata": {},
     "output_type": "display_data"
    }
   ],
   "source": [
    "PETROL = pd.read_csv('PETROL.csv')\n",
    "display(PETROL.head())\n",
    "display(PETROL.describe())\n",
    "display(PETROL.shape)\n"
   ],
   "metadata": {
    "collapsed": false,
    "pycharm": {
     "name": "#%%\n"
    }
   }
  },
  {
   "cell_type": "code",
   "execution_count": 872,
   "outputs": [
    {
     "name": "stdout",
     "output_type": "stream",
     "text": [
      "Score: 0.6901809459027917\n",
      "Coef: [[-3.99336011e+01 -4.53815410e-02 -4.95597538e-03  1.03711642e+03]]\n",
      "Intercept: [513.1398382]\n"
     ]
    }
   ],
   "source": [
    "X = PETROL[['Podatek_paliwowy', 'Sredni_przychod', 'Utwardzone_autostrady', 'Procent_ludnosci_z_prawem_jazdy']]\n",
    "y = PETROL[['Zuzycie_paliwa']]\n",
    "\n",
    "X_train, X_test, y_train, y_test = train_test_split(X,y, test_size=0.3,\n",
    "                                                    random_state=42)\n",
    "reg = LinearRegression().fit(X_train, y_train)\n",
    "score = reg.score(X_train, y_train)\n",
    "coef = reg.coef_\n",
    "intercept = reg.intercept_\n",
    "print(\"Score: {}\".format(score))\n",
    "print(\"Coef: {}\".format(coef))\n",
    "print(\"Intercept: {}\".format(intercept))\n",
    "y_pred = reg.predict(X_test)"
   ],
   "metadata": {
    "collapsed": false,
    "pycharm": {
     "name": "#%%\n"
    }
   }
  },
  {
   "cell_type": "code",
   "execution_count": 873,
   "outputs": [
    {
     "name": "stdout",
     "output_type": "stream",
     "text": [
      "Średni błąd bezwzględny (Mean Absolute Error) = 63.02652446557485\n",
      "Błąd średniokwadratowy (Mean Squared Error) = 8076.669020354741\n",
      "Pierwiastek błędu średniokwadratowego (Root Mean Squared Error) = 89.8702899759133\n"
     ]
    }
   ],
   "source": [
    "MAE = mean_absolute_error(y_test, y_pred)\n",
    "MSE = mean_squared_error(y_test, y_pred)\n",
    "RMSE = np.sqrt(MSE)\n",
    "print('Średni błąd bezwzględny (Mean Absolute Error) = {}'.format(MAE))\n",
    "print('Błąd średniokwadratowy (Mean Squared Error) = {}'.format(MSE))\n",
    "print('Pierwiastek błędu średniokwadratowego (Root Mean Squared Error) = {}'.format(RMSE))\n"
   ],
   "metadata": {
    "collapsed": false,
    "pycharm": {
     "name": "#%%\n"
    }
   }
  },
  {
   "cell_type": "markdown",
   "source": [
    "Uzyskane wyniki predykcji modelu nie są idealne. Wartość  'score', czyli współczynnik determinacji predykcji (coefficient of determination of the prediction) wynosi w przybliżeniu 0.64 i jest to lepsza wartość niż dla danych SBP, ale dużo gorsza od danych SCORES. Wartości błędu bezwzględnego czy średniokwadratowej cechują się dużymi wartościami. Negatywny wpływ na wynik mógł mieć duży rozstrzał wartości danych dla relacji pomiędzy 'zużyciem paliwa' a innymi niektórymi kolumnami."
   ],
   "metadata": {
    "collapsed": false,
    "pycharm": {
     "name": "#%% md\n"
    }
   }
  },
  {
   "cell_type": "markdown",
   "source": [
    "### Regresja logistyczna\n",
    "\n",
    "Naturalnym rozwojem modeli linowych, są uogólnione modele liniowe (*generalized linear models*). \n",
    "\n",
    "Ich przewodnią ideą jest to, że zamiast reprezentować zmienną zależną jako kombinację liniową niezależnych, staramy się stworzyć model liniowy pewnej funkcji zmiennej zależnej.\n",
    "\n",
    "$$ f(y) =  \\beta_0 + \\beta_1 x_1 + \\beta_2 x_2 +\\ldots+ \\beta_n x_n$$\n",
    "\n",
    "wymaga się, aby funkcja ta była odwracalna, dzięki czemu \n",
    "\n",
    "$$ y = f^{-1} ( \\beta_0 + \\beta_1 x_1 + \\beta_2 x_2 +\\ldots+ \\beta_n x_n)$$\n",
    "\n",
    "Takie przekształcenie stosujemy wtedy, gdy zbiór wartości zmiennej zależnej nie jest całym zbiorem liczb rzeczywistych tylko jest w jakiś sposób ograniczony. Na przykład do przedziału $[0,1]$, do wartości dodatnich lub wartości całkowitych. W tens posób można wybrać funkcję $f$, której dziedziną jest zbiór wartości $y$ zaś obrazem jest zbiór liczb rzeczywistych.\n",
    "\n",
    "Jedną z takich funkcji jest tzw. funkcja logistyczna, która odpowiada zbiorowi $[0,1]$ przez co często jest wykorzystywana do analizy prawdopodobieństwa przynależności do danej klasy, lub też inaczej jako klasyfikator.\n",
    "\n",
    "W takiej sytuacji zmienne zależne powinny przyjmować wyłącznie wartości $0$ i $1$ co odpowiada temu czy dany punkt należy do interesującej klasy. Model logistyczny poznwala na określenie estymaty prawdopodobieństwa, czy punkt należy czy nie do danej klasy. \n",
    "\n",
    "Do tworzenia modeli logistycznyc służy klasa: ```LogisticRegression```\n"
   ],
   "metadata": {
    "collapsed": false,
    "pycharm": {
     "name": "#%% md\n"
    }
   }
  },
  {
   "cell_type": "markdown",
   "source": [
    "### Zadanie 3\n",
    "\n",
    "Na podstawie danych zawartych w pliku HEART.csv wykonaj i oceń regresję logistyczną, gdzie Twoją daną zależną jest kolumna \"num\". Wykonanie zadania powinno składać się z następujących kroków:\n",
    "\n",
    "1. Zaimportowanie niezbędnych bibliotek w szczególności tych tworzących modele liniowe z \"scikit-learn\", a także biblioteki do operacji na danych oraz tworzenia wykresów.\n",
    "2. Odczytanie danych z pliku HEART.csv. Pomocne w interpretacji danych są metody: head(), describe(), shape.\n",
    "3. Przetworzenie danych, tj: oznaczenie braku danych (\"?\") na NaN, usunięcię kolumn zawierających zbyt dużo brakujących danych (3 kolumny), usunięcie wierszy z brakującymi wartościami.\n",
    "4. Zakoduj niezależne zmienne kategorialne np: jako wartości \"dummy\", za pomoca metody get_dummies(). Zmienne kategorialne to takie, które reprezentuja przynależność do kategorii. W przypadku naszych odfiltrowanych danych będą to kolumny: cp, restecg, fbs, sex, exang. Jako, że trzy ostatnie już zapisane są w formie 0 i 1 tylko cp i restecg wymagają tej operacji.\n",
    "5. Dokonaj podziału danych na zbiory danych niezależnych (wejściowe, X) oraz zależnych (wyjściowe, y) dla swojego modelu, a następnie podziel zbiór na dane testowe i treningowe (20%).\n",
    "6. Utwróz model regresji logistycznej.\n",
    "7. Oceń wynik za pomocą dostępnych metryk (np: metody związane z modelem czy classification_report() z sklearn)\n",
    "\n",
    "Możesz również spróbować ustandaryzować dane (np: poprzez skalowanie) po podziale na zbiory treningowy i testowy."
   ],
   "metadata": {
    "collapsed": false,
    "pycharm": {
     "name": "#%% md\n"
    }
   }
  },
  {
   "cell_type": "code",
   "execution_count": 874,
   "outputs": [
    {
     "data": {
      "text/plain": "     age  sex  cp trestbps chol fbs restecg thalach exang  oldpeak slope ca  \\\n0     28    1   2      130  132   0       2     185     0      0.0     ?  ?   \n1     29    1   2      120  243   0       0     160     0      0.0     ?  ?   \n2     29    1   2      140    ?   0       0     170     0      0.0     ?  ?   \n3     30    0   1      170  237   0       1     170     0      0.0     ?  ?   \n4     31    0   2      100  219   0       1     150     0      0.0     ?  ?   \n..   ...  ...  ..      ...  ...  ..     ...     ...   ...      ...   ... ..   \n289   52    1   4      160  331   0       0      94     1      2.5     ?  ?   \n290   54    0   3      130  294   0       1     100     1      0.0     2  ?   \n291   56    1   4      155  342   1       0     150     1      3.0     2  ?   \n292   58    0   2      180  393   0       0     110     1      1.0     2  ?   \n293   65    1   4      130  275   0       1     115     1      1.0     2  ?   \n\n    thal  num         \n0      ?           0  \n1      ?           0  \n2      ?           0  \n3      6           0  \n4      ?           0  \n..   ...         ...  \n289    ?           1  \n290    ?           1  \n291    ?           1  \n292    7           1  \n293    ?           1  \n\n[294 rows x 14 columns]",
      "text/html": "<div>\n<style scoped>\n    .dataframe tbody tr th:only-of-type {\n        vertical-align: middle;\n    }\n\n    .dataframe tbody tr th {\n        vertical-align: top;\n    }\n\n    .dataframe thead th {\n        text-align: right;\n    }\n</style>\n<table border=\"1\" class=\"dataframe\">\n  <thead>\n    <tr style=\"text-align: right;\">\n      <th></th>\n      <th>age</th>\n      <th>sex</th>\n      <th>cp</th>\n      <th>trestbps</th>\n      <th>chol</th>\n      <th>fbs</th>\n      <th>restecg</th>\n      <th>thalach</th>\n      <th>exang</th>\n      <th>oldpeak</th>\n      <th>slope</th>\n      <th>ca</th>\n      <th>thal</th>\n      <th>num</th>\n    </tr>\n  </thead>\n  <tbody>\n    <tr>\n      <th>0</th>\n      <td>28</td>\n      <td>1</td>\n      <td>2</td>\n      <td>130</td>\n      <td>132</td>\n      <td>0</td>\n      <td>2</td>\n      <td>185</td>\n      <td>0</td>\n      <td>0.0</td>\n      <td>?</td>\n      <td>?</td>\n      <td>?</td>\n      <td>0</td>\n    </tr>\n    <tr>\n      <th>1</th>\n      <td>29</td>\n      <td>1</td>\n      <td>2</td>\n      <td>120</td>\n      <td>243</td>\n      <td>0</td>\n      <td>0</td>\n      <td>160</td>\n      <td>0</td>\n      <td>0.0</td>\n      <td>?</td>\n      <td>?</td>\n      <td>?</td>\n      <td>0</td>\n    </tr>\n    <tr>\n      <th>2</th>\n      <td>29</td>\n      <td>1</td>\n      <td>2</td>\n      <td>140</td>\n      <td>?</td>\n      <td>0</td>\n      <td>0</td>\n      <td>170</td>\n      <td>0</td>\n      <td>0.0</td>\n      <td>?</td>\n      <td>?</td>\n      <td>?</td>\n      <td>0</td>\n    </tr>\n    <tr>\n      <th>3</th>\n      <td>30</td>\n      <td>0</td>\n      <td>1</td>\n      <td>170</td>\n      <td>237</td>\n      <td>0</td>\n      <td>1</td>\n      <td>170</td>\n      <td>0</td>\n      <td>0.0</td>\n      <td>?</td>\n      <td>?</td>\n      <td>6</td>\n      <td>0</td>\n    </tr>\n    <tr>\n      <th>4</th>\n      <td>31</td>\n      <td>0</td>\n      <td>2</td>\n      <td>100</td>\n      <td>219</td>\n      <td>0</td>\n      <td>1</td>\n      <td>150</td>\n      <td>0</td>\n      <td>0.0</td>\n      <td>?</td>\n      <td>?</td>\n      <td>?</td>\n      <td>0</td>\n    </tr>\n    <tr>\n      <th>...</th>\n      <td>...</td>\n      <td>...</td>\n      <td>...</td>\n      <td>...</td>\n      <td>...</td>\n      <td>...</td>\n      <td>...</td>\n      <td>...</td>\n      <td>...</td>\n      <td>...</td>\n      <td>...</td>\n      <td>...</td>\n      <td>...</td>\n      <td>...</td>\n    </tr>\n    <tr>\n      <th>289</th>\n      <td>52</td>\n      <td>1</td>\n      <td>4</td>\n      <td>160</td>\n      <td>331</td>\n      <td>0</td>\n      <td>0</td>\n      <td>94</td>\n      <td>1</td>\n      <td>2.5</td>\n      <td>?</td>\n      <td>?</td>\n      <td>?</td>\n      <td>1</td>\n    </tr>\n    <tr>\n      <th>290</th>\n      <td>54</td>\n      <td>0</td>\n      <td>3</td>\n      <td>130</td>\n      <td>294</td>\n      <td>0</td>\n      <td>1</td>\n      <td>100</td>\n      <td>1</td>\n      <td>0.0</td>\n      <td>2</td>\n      <td>?</td>\n      <td>?</td>\n      <td>1</td>\n    </tr>\n    <tr>\n      <th>291</th>\n      <td>56</td>\n      <td>1</td>\n      <td>4</td>\n      <td>155</td>\n      <td>342</td>\n      <td>1</td>\n      <td>0</td>\n      <td>150</td>\n      <td>1</td>\n      <td>3.0</td>\n      <td>2</td>\n      <td>?</td>\n      <td>?</td>\n      <td>1</td>\n    </tr>\n    <tr>\n      <th>292</th>\n      <td>58</td>\n      <td>0</td>\n      <td>2</td>\n      <td>180</td>\n      <td>393</td>\n      <td>0</td>\n      <td>0</td>\n      <td>110</td>\n      <td>1</td>\n      <td>1.0</td>\n      <td>2</td>\n      <td>?</td>\n      <td>7</td>\n      <td>1</td>\n    </tr>\n    <tr>\n      <th>293</th>\n      <td>65</td>\n      <td>1</td>\n      <td>4</td>\n      <td>130</td>\n      <td>275</td>\n      <td>0</td>\n      <td>1</td>\n      <td>115</td>\n      <td>1</td>\n      <td>1.0</td>\n      <td>2</td>\n      <td>?</td>\n      <td>?</td>\n      <td>1</td>\n    </tr>\n  </tbody>\n</table>\n<p>294 rows × 14 columns</p>\n</div>"
     },
     "metadata": {},
     "output_type": "display_data"
    },
    {
     "data": {
      "text/plain": "   age  sex  cp trestbps chol fbs restecg thalach exang  oldpeak slope ca  \\\n0   28    1   2      130  132   0       2     185     0      0.0     ?  ?   \n1   29    1   2      120  243   0       0     160     0      0.0     ?  ?   \n2   29    1   2      140    ?   0       0     170     0      0.0     ?  ?   \n3   30    0   1      170  237   0       1     170     0      0.0     ?  ?   \n4   31    0   2      100  219   0       1     150     0      0.0     ?  ?   \n\n  thal  num         \n0    ?           0  \n1    ?           0  \n2    ?           0  \n3    6           0  \n4    ?           0  ",
      "text/html": "<div>\n<style scoped>\n    .dataframe tbody tr th:only-of-type {\n        vertical-align: middle;\n    }\n\n    .dataframe tbody tr th {\n        vertical-align: top;\n    }\n\n    .dataframe thead th {\n        text-align: right;\n    }\n</style>\n<table border=\"1\" class=\"dataframe\">\n  <thead>\n    <tr style=\"text-align: right;\">\n      <th></th>\n      <th>age</th>\n      <th>sex</th>\n      <th>cp</th>\n      <th>trestbps</th>\n      <th>chol</th>\n      <th>fbs</th>\n      <th>restecg</th>\n      <th>thalach</th>\n      <th>exang</th>\n      <th>oldpeak</th>\n      <th>slope</th>\n      <th>ca</th>\n      <th>thal</th>\n      <th>num</th>\n    </tr>\n  </thead>\n  <tbody>\n    <tr>\n      <th>0</th>\n      <td>28</td>\n      <td>1</td>\n      <td>2</td>\n      <td>130</td>\n      <td>132</td>\n      <td>0</td>\n      <td>2</td>\n      <td>185</td>\n      <td>0</td>\n      <td>0.0</td>\n      <td>?</td>\n      <td>?</td>\n      <td>?</td>\n      <td>0</td>\n    </tr>\n    <tr>\n      <th>1</th>\n      <td>29</td>\n      <td>1</td>\n      <td>2</td>\n      <td>120</td>\n      <td>243</td>\n      <td>0</td>\n      <td>0</td>\n      <td>160</td>\n      <td>0</td>\n      <td>0.0</td>\n      <td>?</td>\n      <td>?</td>\n      <td>?</td>\n      <td>0</td>\n    </tr>\n    <tr>\n      <th>2</th>\n      <td>29</td>\n      <td>1</td>\n      <td>2</td>\n      <td>140</td>\n      <td>?</td>\n      <td>0</td>\n      <td>0</td>\n      <td>170</td>\n      <td>0</td>\n      <td>0.0</td>\n      <td>?</td>\n      <td>?</td>\n      <td>?</td>\n      <td>0</td>\n    </tr>\n    <tr>\n      <th>3</th>\n      <td>30</td>\n      <td>0</td>\n      <td>1</td>\n      <td>170</td>\n      <td>237</td>\n      <td>0</td>\n      <td>1</td>\n      <td>170</td>\n      <td>0</td>\n      <td>0.0</td>\n      <td>?</td>\n      <td>?</td>\n      <td>6</td>\n      <td>0</td>\n    </tr>\n    <tr>\n      <th>4</th>\n      <td>31</td>\n      <td>0</td>\n      <td>2</td>\n      <td>100</td>\n      <td>219</td>\n      <td>0</td>\n      <td>1</td>\n      <td>150</td>\n      <td>0</td>\n      <td>0.0</td>\n      <td>?</td>\n      <td>?</td>\n      <td>?</td>\n      <td>0</td>\n    </tr>\n  </tbody>\n</table>\n</div>"
     },
     "metadata": {},
     "output_type": "display_data"
    },
    {
     "data": {
      "text/plain": "              age         sex          cp     oldpeak  num       \ncount  294.000000  294.000000  294.000000  294.000000  294.000000\nmean    47.826531    0.724490    2.982993    0.586054    0.360544\nstd      7.811812    0.447533    0.965117    0.908648    0.480977\nmin     28.000000    0.000000    1.000000    0.000000    0.000000\n25%     42.000000    0.000000    2.000000    0.000000    0.000000\n50%     49.000000    1.000000    3.000000    0.000000    0.000000\n75%     54.000000    1.000000    4.000000    1.000000    1.000000\nmax     66.000000    1.000000    4.000000    5.000000    1.000000",
      "text/html": "<div>\n<style scoped>\n    .dataframe tbody tr th:only-of-type {\n        vertical-align: middle;\n    }\n\n    .dataframe tbody tr th {\n        vertical-align: top;\n    }\n\n    .dataframe thead th {\n        text-align: right;\n    }\n</style>\n<table border=\"1\" class=\"dataframe\">\n  <thead>\n    <tr style=\"text-align: right;\">\n      <th></th>\n      <th>age</th>\n      <th>sex</th>\n      <th>cp</th>\n      <th>oldpeak</th>\n      <th>num</th>\n    </tr>\n  </thead>\n  <tbody>\n    <tr>\n      <th>count</th>\n      <td>294.000000</td>\n      <td>294.000000</td>\n      <td>294.000000</td>\n      <td>294.000000</td>\n      <td>294.000000</td>\n    </tr>\n    <tr>\n      <th>mean</th>\n      <td>47.826531</td>\n      <td>0.724490</td>\n      <td>2.982993</td>\n      <td>0.586054</td>\n      <td>0.360544</td>\n    </tr>\n    <tr>\n      <th>std</th>\n      <td>7.811812</td>\n      <td>0.447533</td>\n      <td>0.965117</td>\n      <td>0.908648</td>\n      <td>0.480977</td>\n    </tr>\n    <tr>\n      <th>min</th>\n      <td>28.000000</td>\n      <td>0.000000</td>\n      <td>1.000000</td>\n      <td>0.000000</td>\n      <td>0.000000</td>\n    </tr>\n    <tr>\n      <th>25%</th>\n      <td>42.000000</td>\n      <td>0.000000</td>\n      <td>2.000000</td>\n      <td>0.000000</td>\n      <td>0.000000</td>\n    </tr>\n    <tr>\n      <th>50%</th>\n      <td>49.000000</td>\n      <td>1.000000</td>\n      <td>3.000000</td>\n      <td>0.000000</td>\n      <td>0.000000</td>\n    </tr>\n    <tr>\n      <th>75%</th>\n      <td>54.000000</td>\n      <td>1.000000</td>\n      <td>4.000000</td>\n      <td>1.000000</td>\n      <td>1.000000</td>\n    </tr>\n    <tr>\n      <th>max</th>\n      <td>66.000000</td>\n      <td>1.000000</td>\n      <td>4.000000</td>\n      <td>5.000000</td>\n      <td>1.000000</td>\n    </tr>\n  </tbody>\n</table>\n</div>"
     },
     "metadata": {},
     "output_type": "display_data"
    },
    {
     "data": {
      "text/plain": "(294, 14)"
     },
     "metadata": {},
     "output_type": "display_data"
    }
   ],
   "source": [
    "HEARTS = pd.read_csv('HEART.csv')\n",
    "display(HEARTS)\n",
    "display(HEARTS.head())\n",
    "display(HEARTS.describe())\n",
    "display(HEARTS.shape)"
   ],
   "metadata": {
    "collapsed": false,
    "pycharm": {
     "name": "#%%\n"
    }
   }
  },
  {
   "cell_type": "code",
   "execution_count": 875,
   "outputs": [],
   "source": [
    "HEARTS = HEARTS.replace(to_replace='?', value= np.nan)\n",
    "HEARTS = HEARTS.drop(labels=['ca', 'slope', 'thal'], axis=1).dropna()\n",
    "HEARTS = HEARTS.rename(columns={'num       ':'num'})\n",
    "HEARTS = pd.get_dummies(HEARTS, columns=['cp', 'restecg'])\n",
    "X = HEARTS.drop(['num'], axis=1)\n",
    "y = HEARTS['num']"
   ],
   "metadata": {
    "collapsed": false,
    "pycharm": {
     "name": "#%%\n"
    }
   }
  },
  {
   "cell_type": "code",
   "execution_count": 876,
   "outputs": [
    {
     "name": "stdout",
     "output_type": "stream",
     "text": [
      "Score: 0.8365384615384616\n",
      "Coef: [[-0.06552948  0.93400515 -0.05883848  0.66003017  1.3800112  -0.30483739\n",
      "   1.68641968  1.46783483  0.62173668 -1.33785112 -0.1249979   0.84086518\n",
      "   0.17156461  0.00720458 -0.17901636]]\n",
      "Intercept: [-2.25109782]\n"
     ]
    }
   ],
   "source": [
    "X_train, X_test, y_train, y_test = train_test_split(X,y, test_size=0.2,\n",
    "                                                    random_state=42)\n",
    "X_train = preprocessing.MinMaxScaler().fit_transform(X_train) #scale to 0-1 range\n",
    "X_test = preprocessing.MinMaxScaler().fit_transform(X_test)\n",
    "\n",
    "reg = LogisticRegression().fit(X_train, y_train)\n",
    "score = reg.score(X_train, y_train)\n",
    "coef = reg.coef_\n",
    "intercept = reg.intercept_\n",
    "print(\"Score: {}\".format(score))\n",
    "print(\"Coef: {}\".format(coef))\n",
    "print(\"Intercept: {}\".format(intercept))\n",
    "y_pred = reg.predict(X_test)"
   ],
   "metadata": {
    "collapsed": false,
    "pycharm": {
     "name": "#%%\n"
    }
   }
  },
  {
   "cell_type": "code",
   "execution_count": 877,
   "outputs": [
    {
     "name": "stdout",
     "output_type": "stream",
     "text": [
      "              precision    recall  f1-score   support\n",
      "\n",
      "           0       0.87      0.82      0.84        33\n",
      "           1       0.73      0.80      0.76        20\n",
      "\n",
      "    accuracy                           0.81        53\n",
      "   macro avg       0.80      0.81      0.80        53\n",
      "weighted avg       0.82      0.81      0.81        53\n",
      "\n"
     ]
    }
   ],
   "source": [
    "y_pred = reg.predict(X_test)\n",
    "print(sklearn.metrics.classification_report(y_test, y_pred))"
   ],
   "metadata": {
    "collapsed": false,
    "pycharm": {
     "name": "#%%\n"
    }
   }
  }
 ],
 "metadata": {
  "kernelspec": {
   "display_name": "Python 3",
   "language": "python",
   "name": "python3"
  },
  "language_info": {
   "codemirror_mode": {
    "name": "ipython",
    "version": 3
   },
   "file_extension": ".py",
   "mimetype": "text/x-python",
   "name": "python",
   "nbconvert_exporter": "python",
   "pygments_lexer": "ipython3",
   "version": "3.8.8"
  }
 },
 "nbformat": 4,
 "nbformat_minor": 4
}